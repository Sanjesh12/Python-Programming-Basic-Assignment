{
 "cells": [
  {
   "cell_type": "markdown",
   "metadata": {},
   "source": [
    "# Python Basic Programing Assignment 4"
   ]
  },
  {
   "cell_type": "markdown",
   "metadata": {},
   "source": [
    "1. Write a Python Program to Find the Factorial of a Number?"
   ]
  },
  {
   "cell_type": "code",
   "execution_count": null,
   "metadata": {
    "execution": {
     "iopub.execute_input": "2022-03-29T16:39:43.05929Z",
     "iopub.status.busy": "2022-03-29T16:39:43.058892Z",
     "iopub.status.idle": "2022-03-29T16:39:45.424046Z",
     "shell.execute_reply": "2022-03-29T16:39:45.423156Z",
     "shell.execute_reply.started": "2022-03-29T16:39:43.059259Z"
    }
   },
   "outputs": [],
   "source": [
    "# 1 Ans:\n",
    "# Python Program for Find the Factorial of a Number\n",
    "\n",
    "a = int(input(\"Enter a number: \"))\n",
    "factorial = 1\n",
    "\n",
    "if a <0 :\n",
    "    print(\"factorial does not exist for negative numbers\")\n",
    "elif a == 0:\n",
    "    print(\"factorial of 0 is 1\")\n",
    "else :\n",
    "    for i in range(1,a+1):\n",
    "        factorial = factorial*i\n",
    "    print(\"The factorial of\",a,\"is\",factorial)"
   ]
  },
  {
   "cell_type": "markdown",
   "metadata": {},
   "source": [
    "2. Write a Python Program to Display the multiplication Table?"
   ]
  },
  {
   "cell_type": "code",
   "execution_count": null,
   "metadata": {
    "execution": {
     "iopub.execute_input": "2022-03-29T16:51:14.018588Z",
     "iopub.status.busy": "2022-03-29T16:51:14.018259Z",
     "iopub.status.idle": "2022-03-29T16:51:22.601416Z",
     "shell.execute_reply": "2022-03-29T16:51:22.600433Z",
     "shell.execute_reply.started": "2022-03-29T16:51:14.018556Z"
    }
   },
   "outputs": [],
   "source": [
    "# 2 Ans:\n",
    "# Python Program to Display the multiplication Table\n",
    "\n",
    "num = int(input(\"Enter a number: \"))\n",
    "for i in range(1,11):\n",
    "    print(num,\"x\",i,\"=\",num*i)"
   ]
  },
  {
   "cell_type": "markdown",
   "metadata": {},
   "source": [
    "3. Write a Python Program to Print the Fibonacci sequence?"
   ]
  },
  {
   "cell_type": "code",
   "execution_count": 1,
   "metadata": {
    "execution": {
     "iopub.execute_input": "2022-03-29T17:39:16.244238Z",
     "iopub.status.busy": "2022-03-29T17:39:16.243464Z",
     "iopub.status.idle": "2022-03-29T17:39:18.870515Z",
     "shell.execute_reply": "2022-03-29T17:39:18.869565Z",
     "shell.execute_reply.started": "2022-03-29T17:39:16.244145Z"
    }
   },
   "outputs": [
    {
     "name": "stdout",
     "output_type": "stream",
     "text": [
      "How many terms the user wants to print? 2\n",
      "The fibonacci sequence of the numbers is:\n",
      "0\n",
      "1\n"
     ]
    }
   ],
   "source": [
    "    n_terms = int(input (\"How many terms the user wants to print? \"))  \n",
    "      \n",
    "    # First two terms  \n",
    "    n_1 = 0  \n",
    "    n_2 = 1  \n",
    "    count = 0  \n",
    "      \n",
    "    # Now, we will check if the number of terms is valid or not  \n",
    "    if n_terms <= 0:  \n",
    "        print (\"Please enter a positive integer, the given number is not valid\")  \n",
    "    # if there is only one term, it will return n_1  \n",
    "    elif n_terms == 1:  \n",
    "        print (\"The Fibonacci sequence of the numbers up to\", n_terms, \": \")  \n",
    "        print(n_1)  \n",
    "    # Then we will generate Fibonacci sequence of number  \n",
    "    else:  \n",
    "        print (\"The fibonacci sequence of the numbers is:\")  \n",
    "        while count < n_terms:  \n",
    "            print(n_1)  \n",
    "            nth = n_1 + n_2  \n",
    "           # At last, we will update values  \n",
    "            n_1 = n_2  \n",
    "            n_2 = nth  \n",
    "            count += 1  "
   ]
  },
  {
   "cell_type": "markdown",
   "metadata": {},
   "source": [
    "4. Write a Python Program to Check Armstrong Number?"
   ]
  },
  {
   "cell_type": "code",
   "execution_count": null,
   "metadata": {
    "execution": {
     "iopub.execute_input": "2022-03-30T18:39:23.796646Z",
     "iopub.status.busy": "2022-03-30T18:39:23.79626Z",
     "iopub.status.idle": "2022-03-30T18:39:23.822059Z",
     "shell.execute_reply": "2022-03-30T18:39:23.821032Z",
     "shell.execute_reply.started": "2022-03-30T18:39:23.796547Z"
    }
   },
   "outputs": [],
   "source": [
    "num = 1634\n",
    "\n",
    "# Changed num variable to string, \n",
    "# and calculated the length (number of digits)\n",
    "order = len(str(num))\n",
    "\n",
    "# initialize sum\n",
    "sum = 0\n",
    "\n",
    "# find the sum of the cube of each digit\n",
    "temp = num\n",
    "while temp > 0:\n",
    "   digit = temp % 10\n",
    "   sum += digit ** order\n",
    "   temp //= 10\n",
    "\n",
    "# display the result\n",
    "if num == sum:\n",
    "   print(num,\"is an Armstrong number\")\n",
    "else:\n",
    "   print(num,\"is not an Armstrong number\")"
   ]
  },
  {
   "cell_type": "markdown",
   "metadata": {},
   "source": [
    "5. Write a Python Program to Find Armstrong Number in an Interval?"
   ]
  },
  {
   "cell_type": "code",
   "execution_count": 1,
   "metadata": {
    "execution": {
     "iopub.execute_input": "2022-03-31T15:29:20.583434Z",
     "iopub.status.busy": "2022-03-31T15:29:20.582961Z",
     "iopub.status.idle": "2022-03-31T15:29:20.633054Z",
     "shell.execute_reply": "2022-03-31T15:29:20.631789Z",
     "shell.execute_reply.started": "2022-03-31T15:29:20.583330Z"
    }
   },
   "outputs": [],
   "source": [
    "# Program to check Armstrong numbers in a certain interval\n",
    "\n",
    "lower = 100\n",
    "upper = 2000\n",
    "\n",
    "for num in range(lower, upper + 1):\n",
    "\n",
    "   # order of number\n",
    "   order = len(str(num))\n",
    "    \n",
    "   # initialize sum\n",
    "   sum = 0\n",
    "\n",
    "   temp = num\n",
    "   while temp > 0:\n",
    "       digit = temp % 10\n",
    "       sum += digit ** order\n",
    "       temp //= 10\n",
    "\n",
    "   if num == sum:\n",
    "       print(num)"
   ]
  },
  {
   "cell_type": "markdown",
   "metadata": {},
   "source": [
    "6. Write a Python Program to Find the Sum of Natural Numbers?"
   ]
  },
  {
   "cell_type": "code",
   "execution_count": 2,
   "metadata": {
    "execution": {
     "iopub.execute_input": "2022-03-31T15:35:12.412270Z",
     "iopub.status.busy": "2022-03-31T15:35:12.411645Z",
     "iopub.status.idle": "2022-03-31T15:35:17.809388Z",
     "shell.execute_reply": "2022-03-31T15:35:17.808456Z",
     "shell.execute_reply.started": "2022-03-31T15:35:12.412201Z"
    }
   },
   "outputs": [
    {
     "name": "stdout",
     "output_type": "stream",
     "text": [
      "Enter number: 34\n",
      "The sum is 595\n"
     ]
    }
   ],
   "source": [
    "# 6 Ans\n",
    "# Sum of natural numbers up to num\n",
    "\n",
    "num = int(input(\"Enter number: \"))\n",
    "\n",
    "if num < 0:\n",
    "   print(\"Enter a positive number\")\n",
    "else:\n",
    "   sum = 0\n",
    "   # use while loop to iterate until zero\n",
    "   while(num > 0):\n",
    "       sum += num\n",
    "       num -= 1\n",
    "   print(\"The sum is\", sum)"
   ]
  },
  {
   "cell_type": "code",
   "execution_count": null,
   "metadata": {},
   "outputs": [],
   "source": []
  }
 ],
 "metadata": {
  "kernelspec": {
   "display_name": "Python 3 (ipykernel)",
   "language": "python",
   "name": "python3"
  },
  "language_info": {
   "codemirror_mode": {
    "name": "ipython",
    "version": 3
   },
   "file_extension": ".py",
   "mimetype": "text/x-python",
   "name": "python",
   "nbconvert_exporter": "python",
   "pygments_lexer": "ipython3",
   "version": "3.9.7"
  }
 },
 "nbformat": 4,
 "nbformat_minor": 4
}
