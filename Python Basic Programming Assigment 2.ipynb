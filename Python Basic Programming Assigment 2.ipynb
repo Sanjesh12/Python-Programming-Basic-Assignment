{
 "cells": [
  {
   "cell_type": "markdown",
   "id": "f9448b3a",
   "metadata": {},
   "source": [
    "# Python Basic Programming Assigment 2"
   ]
  },
  {
   "cell_type": "markdown",
   "id": "8601b29a",
   "metadata": {},
   "source": [
    "1. Write a Python program to convert kilometers to miles?"
   ]
  },
  {
   "cell_type": "code",
   "execution_count": 2,
   "id": "6e8184e9",
   "metadata": {},
   "outputs": [
    {
     "name": "stdout",
     "output_type": "stream",
     "text": [
      "Enter distance in kilometer: 2\n",
      "Distance in miles:  1.242\n"
     ]
    }
   ],
   "source": [
    "# 1 Ans:\n",
    "a = float(input(\"Enter distance in kilometer: \"))\n",
    "#  Converting Kilometers to Miles\n",
    "b = a * 0.621\n",
    "print(\"Distance in miles: \",b)\n",
    "\n"
   ]
  },
  {
   "cell_type": "markdown",
   "id": "8ef1e080",
   "metadata": {},
   "source": [
    "2. Write a Python program to convert Celsius to Fahrenheit?"
   ]
  },
  {
   "cell_type": "code",
   "execution_count": 3,
   "id": "e460d638",
   "metadata": {},
   "outputs": [
    {
     "name": "stdout",
     "output_type": "stream",
     "text": [
      "Enter temperature in celsius: 20\n",
      "Temperature in fahrenheit 68.0\n"
     ]
    }
   ],
   "source": [
    "# 2 Ans:\n",
    "c = float(input(\"Enter temperature in celsius: \"))\n",
    "# Convert Celsius to Fahrenheit\n",
    "f = c*(9/5)+32\n",
    "print(\"Temperature in fahrenheit\",f)"
   ]
  },
  {
   "cell_type": "markdown",
   "id": "78863e94",
   "metadata": {},
   "source": [
    "3. Write a Python program to display calendar?"
   ]
  },
  {
   "cell_type": "code",
   "execution_count": 5,
   "id": "aa276adc",
   "metadata": {},
   "outputs": [
    {
     "name": "stdout",
     "output_type": "stream",
     "text": [
      "Enter year: 2022\n",
      "Enter month: 4\n",
      "     April 2022\n",
      "Mo Tu We Th Fr Sa Su\n",
      "             1  2  3\n",
      " 4  5  6  7  8  9 10\n",
      "11 12 13 14 15 16 17\n",
      "18 19 20 21 22 23 24\n",
      "25 26 27 28 29 30\n",
      "\n"
     ]
    }
   ],
   "source": [
    "# 3 Ans:\n",
    "import calendar\n",
    "\n",
    "yy = int(input(\"Enter year: \"))\n",
    "mm = int(input(\"Enter month: \"))\n",
    "print(calendar.month(yy,mm))\n"
   ]
  },
  {
   "cell_type": "markdown",
   "id": "204bcf7b",
   "metadata": {},
   "source": [
    "4. Write a Python program to solve quadratic equation?"
   ]
  },
  {
   "cell_type": "code",
   "execution_count": 21,
   "id": "66878c1d",
   "metadata": {},
   "outputs": [
    {
     "name": "stdout",
     "output_type": "stream",
     "text": [
      "Enter the value of a: 1\n",
      "Enter the value of b: 3\n",
      "Enter the value of c: 6\n",
      "The solution are (-1.5-1.9364916731037085j) and (-1.5+1.9364916731037085j)\n"
     ]
    }
   ],
   "source": [
    "# 4 Ans:\n",
    "import cmath\n",
    "a = int(input(\"Enter the value of a: \"))\n",
    "b = int(input(\"Enter the value of b: \"))\n",
    "c = int(input(\"Enter the value of c: \"))\n",
    "\n",
    "d =(b**2)-(4*a*c)\n",
    "so1 = (-b-cmath.sqrt(d))/(2*a)\n",
    "so2 = (-b+cmath.sqrt(d))/(2*a)\n",
    "\n",
    "print(\"The solution are {0} and {1}\".format(so1,so2))"
   ]
  },
  {
   "cell_type": "markdown",
   "id": "bc27a3d8",
   "metadata": {},
   "source": [
    "5. Write a Python program to swap two variables without temp variable?"
   ]
  },
  {
   "cell_type": "code",
   "execution_count": 25,
   "id": "7e34f308",
   "metadata": {},
   "outputs": [
    {
     "name": "stdout",
     "output_type": "stream",
     "text": [
      "Enter x: 345\n",
      "Enter y: 876\n",
      "After Swapping: x = 876  y = 345\n"
     ]
    }
   ],
   "source": [
    "# 5 Ans:\n",
    "\n",
    "\n",
    "x = int(input(\"Enter x: \"))\n",
    "y = int(input(\"Enter y: \"))\n",
    "\n",
    "# Code to swap 'x' and 'y'\n",
    "\n",
    "x = x + y\n",
    "\n",
    "y = x - y\n",
    "\n",
    "x = x - y\n",
    "print(\"After Swapping: x =\", x, \" y =\", y)\n",
    "\n"
   ]
  },
  {
   "cell_type": "code",
   "execution_count": null,
   "id": "67807e2d",
   "metadata": {},
   "outputs": [],
   "source": []
  },
  {
   "cell_type": "code",
   "execution_count": null,
   "id": "62f9497c",
   "metadata": {},
   "outputs": [],
   "source": []
  }
 ],
 "metadata": {
  "kernelspec": {
   "display_name": "Python 3 (ipykernel)",
   "language": "python",
   "name": "python3"
  },
  "language_info": {
   "codemirror_mode": {
    "name": "ipython",
    "version": 3
   },
   "file_extension": ".py",
   "mimetype": "text/x-python",
   "name": "python",
   "nbconvert_exporter": "python",
   "pygments_lexer": "ipython3",
   "version": "3.9.7"
  }
 },
 "nbformat": 4,
 "nbformat_minor": 5
}
