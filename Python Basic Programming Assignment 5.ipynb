{
 "cells": [
  {
   "cell_type": "markdown",
   "id": "39efdf2c",
   "metadata": {},
   "source": [
    "# Python Programming Assignment 5"
   ]
  },
  {
   "cell_type": "markdown",
   "id": "c1e77d2e",
   "metadata": {},
   "source": [
    "1. Write a Python Program to Find LCM?"
   ]
  },
  {
   "cell_type": "code",
   "execution_count": 8,
   "id": "3e3fa744",
   "metadata": {},
   "outputs": [
    {
     "name": "stdout",
     "output_type": "stream",
     "text": [
      "The L.C.M. is 216\n"
     ]
    }
   ],
   "source": [
    "# Python Program to find the L.C.M. of two input number\n",
    "\n",
    "def compute_lcm(x, y):\n",
    "\n",
    "   # choose the greater number\n",
    "   if x > y:\n",
    "       greater = x\n",
    "   else:\n",
    "       greater = y\n",
    "\n",
    "   while(True):\n",
    "       if((greater % x == 0) and (greater % y == 0)):\n",
    "           lcm = greater\n",
    "           break\n",
    "       greater += 1\n",
    "\n",
    "   return lcm\n",
    "\n",
    "num1 = 54\n",
    "num2 = 24\n",
    "\n",
    "print(\"The L.C.M. is\", compute_lcm(num1, num2))"
   ]
  },
  {
   "cell_type": "markdown",
   "id": "45f1447a",
   "metadata": {},
   "source": [
    "2. Write a Python Program to Find HCF?"
   ]
  },
  {
   "cell_type": "code",
   "execution_count": 8,
   "id": "1a4be9ee",
   "metadata": {},
   "outputs": [
    {
     "name": "stdout",
     "output_type": "stream",
     "text": [
      "H.C.F is  6\n"
     ]
    }
   ],
   "source": [
    "# Python Program to find the H.C.F. of two input number\n",
    "def compute_hcf(x, y):\n",
    "    if x > y :\n",
    "        smaller = y\n",
    "    else:\n",
    "        smaller = x\n",
    "        \n",
    "    for i in range (1, smaller+1):\n",
    "        if((x % i == 0) and (y % i == 0)):\n",
    "            hcf = i\n",
    "    return hcf\n",
    "\n",
    "num1 = 54\n",
    "num2 = 24\n",
    "\n",
    "print(\"H.C.F is \",compute_hcf(num1 ,num2 ))"
   ]
  },
  {
   "cell_type": "markdown",
   "id": "f73724b9",
   "metadata": {},
   "source": [
    "3. Write a Python Program to Convert Decimal to Binary, Octal and Hexadecimal?"
   ]
  },
  {
   "cell_type": "code",
   "execution_count": 10,
   "id": "e20a329b",
   "metadata": {},
   "outputs": [
    {
     "name": "stdout",
     "output_type": "stream",
     "text": [
      "The Decimal value is  500\n",
      "0b111110100\n",
      "0o764\n",
      "0x1f4\n"
     ]
    }
   ],
   "source": [
    "# Python Program to Convert Decimal to Binary, Octal and Hexadecimal\n",
    "\n",
    "dec = 500\n",
    "\n",
    "print(\"The Decimal value is \", dec)\n",
    "print(bin(dec))\n",
    "print(oct(dec))\n",
    "print(hex(dec))"
   ]
  },
  {
   "cell_type": "markdown",
   "id": "af610f0b",
   "metadata": {},
   "source": [
    "4. Write a Python Program To Find ASCII value of a character?"
   ]
  },
  {
   "cell_type": "code",
   "execution_count": 14,
   "id": "7421f314",
   "metadata": {},
   "outputs": [
    {
     "name": "stdout",
     "output_type": "stream",
     "text": [
      "The ASCII value of S is  83\n"
     ]
    }
   ],
   "source": [
    "# Program to find ASCII value of a character\n",
    "c = 'S'\n",
    "\n",
    "print('The ASCII value of',c, 'is ',ord(c))\n"
   ]
  },
  {
   "cell_type": "markdown",
   "id": "7390b8be",
   "metadata": {},
   "source": [
    "5. Write a Python Program to Make a Simple Calculator with 4 basic mathematical operations?"
   ]
  },
  {
   "cell_type": "code",
   "execution_count": null,
   "id": "349e0c65",
   "metadata": {},
   "outputs": [],
   "source": [
    "# Program to Make a Simple Calculator with 4 basic mathematical operations\n",
    "\n",
    "def add(x, y):\n",
    "    return x + y\n",
    "\n",
    "def sub(x, y):\n",
    "    return x - y\n",
    "\n",
    "def mult(x , y):\n",
    "    return x*y\n",
    "\n",
    "def div(x, y):\n",
    "    return x/y\n",
    "\n",
    "print(\"Select Operator \")\n",
    "print(\"1.add\")\n",
    "print(\"2.sub\")\n",
    "print(\"3.mult\")\n",
    "print(\"4.div\")\n",
    "\n",
    "while (True):\n",
    "    # take input from the user\n",
    "    choice = input(\"Enter Choice(1/2/3/4): \")\n",
    "    # check if choice is one of the four options\n",
    "    if choice in ('1','2','3','4'):\n",
    "        num1 = float(input(\"Enter first value: \"))\n",
    "        num2 = float(input(\"Enter second value: \"))\n",
    "        \n",
    "        if choice == '1' :\n",
    "            print(num1, '+', num2 ,'=', add(num1,num2))\n",
    "        elif choice == '2':\n",
    "            print(num1 , '-', num2 , '=' , sub(num1 , num2))\n",
    "        elif choice == '3':\n",
    "            print(num1, '*',num2 , '=' , mult(num1 , num2))\n",
    "        elif choice == '4':\n",
    "            print(num1, '/',num2 , '=' , div(num1 , num2))\n",
    "            \n",
    "        next_calculation = input(\"Let's do next calculation? (yes/no): \")\n",
    "        if next_calculation == 'no':\n",
    "          break\n",
    "            \n",
    "    else:\n",
    "        print(\"Invalid Input\")\n",
    "            "
   ]
  },
  {
   "cell_type": "code",
   "execution_count": null,
   "id": "31893cbe",
   "metadata": {},
   "outputs": [],
   "source": []
  }
 ],
 "metadata": {
  "kernelspec": {
   "display_name": "Python 3 (ipykernel)",
   "language": "python",
   "name": "python3"
  },
  "language_info": {
   "codemirror_mode": {
    "name": "ipython",
    "version": 3
   },
   "file_extension": ".py",
   "mimetype": "text/x-python",
   "name": "python",
   "nbconvert_exporter": "python",
   "pygments_lexer": "ipython3",
   "version": "3.9.7"
  }
 },
 "nbformat": 4,
 "nbformat_minor": 5
}
