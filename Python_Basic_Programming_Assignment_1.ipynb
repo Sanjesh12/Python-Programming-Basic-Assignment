{
 "cells": [
  {
   "cell_type": "markdown",
   "id": "13bca440",
   "metadata": {},
   "source": [
    "# Python Programming Basic Assignment_1\n",
    "\n"
   ]
  },
  {
   "cell_type": "markdown",
   "id": "a3121556",
   "metadata": {},
   "source": [
    "1. Write a Python program to print \"Hello Python\"?"
   ]
  },
  {
   "cell_type": "code",
   "execution_count": 2,
   "id": "1bb509fb",
   "metadata": {},
   "outputs": [
    {
     "name": "stdout",
     "output_type": "stream",
     "text": [
      "Hello Python\n"
     ]
    }
   ],
   "source": [
    "# 1 Ans:\n",
    "print(\"Hello Python\")"
   ]
  },
  {
   "cell_type": "markdown",
   "id": "87cf8f7b",
   "metadata": {},
   "source": [
    "2. Write a Python program to do arithmetic operations addition and division ?"
   ]
  },
  {
   "cell_type": "code",
   "execution_count": 9,
   "id": "5c99e1d5",
   "metadata": {},
   "outputs": [
    {
     "name": "stdout",
     "output_type": "stream",
     "text": [
      "Enter the value of a: 20\n",
      "Enter the value of b: 10\n",
      "c =  30\n",
      "d =  2.0\n"
     ]
    }
   ],
   "source": [
    "# 2 Ans:\n",
    "a = int(input(\"Enter the value of a: \"))\n",
    "b = int(input(\"Enter the value of b: \"))\n",
    "\n",
    "# Addition of a and b.\n",
    "c = a+b\n",
    "print(\"c = \", c)\n",
    "\n",
    "# Division of a and b.\n",
    "d = a/b\n",
    "print(\"d = \", d)"
   ]
  },
  {
   "cell_type": "markdown",
   "id": "b3a3dca9",
   "metadata": {},
   "source": [
    "3. Write a Python program to find the area of a triangle ?"
   ]
  },
  {
   "cell_type": "code",
   "execution_count": 10,
   "id": "def0a8a6",
   "metadata": {},
   "outputs": [
    {
     "name": "stdout",
     "output_type": "stream",
     "text": [
      "Enter the base of triangle: 20\n",
      "Enter the height of triangle: 50\n",
      "Area =  500.0\n"
     ]
    }
   ],
   "source": [
    "# 3 Ans:\n",
    "b = int(input(\"Enter the base of triangle: \"))\n",
    "h = int(input(\"Enter the height of triangle: \"))\n",
    "# Area of Triangle\n",
    "area = 0.5*b*h\n",
    "print(\"Area = \", area)"
   ]
  },
  {
   "cell_type": "markdown",
   "id": "9acd93ff",
   "metadata": {},
   "source": [
    "4. Write a Python program to swap two variables ?"
   ]
  },
  {
   "cell_type": "code",
   "execution_count": 11,
   "id": "a6670ce5",
   "metadata": {},
   "outputs": [
    {
     "name": "stdout",
     "output_type": "stream",
     "text": [
      "Enter the value of a: 12\n",
      "Enter the valur of b: 23\n",
      "Value of b =  12\n",
      "Value of a  =  23\n"
     ]
    }
   ],
   "source": [
    "# 4 Ans:\n",
    "a = int(input(\"Enter the value of a: \"))\n",
    "b = int(input(\"Enter the valur of b: \"))\n",
    "print(\"Value of b = \" ,a)\n",
    "print(\"Value of a  = \",b)"
   ]
  },
  {
   "cell_type": "markdown",
   "id": "e55bff6d",
   "metadata": {},
   "source": [
    "5. Write a Python program to generate a random number ?"
   ]
  },
  {
   "cell_type": "code",
   "execution_count": 23,
   "id": "30ee320e",
   "metadata": {},
   "outputs": [
    {
     "name": "stdout",
     "output_type": "stream",
     "text": [
      "4\n"
     ]
    }
   ],
   "source": [
    "# 5 Ans:\n",
    "import random\n",
    "print(random.randint(1,11))\n"
   ]
  }
 ],
 "metadata": {
  "kernelspec": {
   "display_name": "Python 3 (ipykernel)",
   "language": "python",
   "name": "python3"
  },
  "language_info": {
   "codemirror_mode": {
    "name": "ipython",
    "version": 3
   },
   "file_extension": ".py",
   "mimetype": "text/x-python",
   "name": "python",
   "nbconvert_exporter": "python",
   "pygments_lexer": "ipython3",
   "version": "3.9.7"
  }
 },
 "nbformat": 4,
 "nbformat_minor": 5
}
